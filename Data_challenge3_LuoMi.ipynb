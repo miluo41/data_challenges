{
 "cells": [
  {
   "cell_type": "code",
   "execution_count": 1,
   "metadata": {},
   "outputs": [],
   "source": [
    "import numpy as np\n",
    "import pandas as pd\n",
    "import matplotlib.pyplot as plt\n",
    "%matplotlib inline"
   ]
  },
  {
   "cell_type": "code",
   "execution_count": 2,
   "metadata": {},
   "outputs": [],
   "source": [
    "df=pd.read_csv('conversion_data.csv')"
   ]
  },
  {
   "cell_type": "code",
   "execution_count": 3,
   "metadata": {},
   "outputs": [
    {
     "data": {
      "text/html": [
       "<div>\n",
       "<style>\n",
       "    .dataframe thead tr:only-child th {\n",
       "        text-align: right;\n",
       "    }\n",
       "\n",
       "    .dataframe thead th {\n",
       "        text-align: left;\n",
       "    }\n",
       "\n",
       "    .dataframe tbody tr th {\n",
       "        vertical-align: top;\n",
       "    }\n",
       "</style>\n",
       "<table border=\"1\" class=\"dataframe\">\n",
       "  <thead>\n",
       "    <tr style=\"text-align: right;\">\n",
       "      <th></th>\n",
       "      <th>country</th>\n",
       "      <th>age</th>\n",
       "      <th>new_user</th>\n",
       "      <th>source</th>\n",
       "      <th>total_pages_visited</th>\n",
       "      <th>converted</th>\n",
       "    </tr>\n",
       "  </thead>\n",
       "  <tbody>\n",
       "    <tr>\n",
       "      <th>0</th>\n",
       "      <td>UK</td>\n",
       "      <td>25</td>\n",
       "      <td>1</td>\n",
       "      <td>Ads</td>\n",
       "      <td>1</td>\n",
       "      <td>0</td>\n",
       "    </tr>\n",
       "    <tr>\n",
       "      <th>1</th>\n",
       "      <td>US</td>\n",
       "      <td>23</td>\n",
       "      <td>1</td>\n",
       "      <td>Seo</td>\n",
       "      <td>5</td>\n",
       "      <td>0</td>\n",
       "    </tr>\n",
       "    <tr>\n",
       "      <th>2</th>\n",
       "      <td>US</td>\n",
       "      <td>28</td>\n",
       "      <td>1</td>\n",
       "      <td>Seo</td>\n",
       "      <td>4</td>\n",
       "      <td>0</td>\n",
       "    </tr>\n",
       "    <tr>\n",
       "      <th>3</th>\n",
       "      <td>China</td>\n",
       "      <td>39</td>\n",
       "      <td>1</td>\n",
       "      <td>Seo</td>\n",
       "      <td>5</td>\n",
       "      <td>0</td>\n",
       "    </tr>\n",
       "    <tr>\n",
       "      <th>4</th>\n",
       "      <td>US</td>\n",
       "      <td>30</td>\n",
       "      <td>1</td>\n",
       "      <td>Seo</td>\n",
       "      <td>6</td>\n",
       "      <td>0</td>\n",
       "    </tr>\n",
       "  </tbody>\n",
       "</table>\n",
       "</div>"
      ],
      "text/plain": [
       "  country  age  new_user source  total_pages_visited  converted\n",
       "0      UK   25         1    Ads                    1          0\n",
       "1      US   23         1    Seo                    5          0\n",
       "2      US   28         1    Seo                    4          0\n",
       "3   China   39         1    Seo                    5          0\n",
       "4      US   30         1    Seo                    6          0"
      ]
     },
     "execution_count": 3,
     "metadata": {},
     "output_type": "execute_result"
    }
   ],
   "source": [
    "df.head()"
   ]
  },
  {
   "cell_type": "code",
   "execution_count": 4,
   "metadata": {},
   "outputs": [
    {
     "data": {
      "text/plain": [
       "country                object\n",
       "age                     int64\n",
       "new_user                int64\n",
       "source                 object\n",
       "total_pages_visited     int64\n",
       "converted               int64\n",
       "dtype: object"
      ]
     },
     "execution_count": 4,
     "metadata": {},
     "output_type": "execute_result"
    }
   ],
   "source": [
    "df.dtypes"
   ]
  },
  {
   "cell_type": "markdown",
   "metadata": {},
   "source": [
    "### Data scaling and get dummy varibles"
   ]
  },
  {
   "cell_type": "code",
   "execution_count": 5,
   "metadata": {},
   "outputs": [],
   "source": [
    "df_f=df.loc[:,['age','total_pages_visited']]\n",
    "df_c=df.loc[:,['country','new_user','source']]"
   ]
  },
  {
   "cell_type": "code",
   "execution_count": 6,
   "metadata": {},
   "outputs": [
    {
     "data": {
      "text/plain": [
       "US         178092\n",
       "China       76602\n",
       "UK          48450\n",
       "Germany     13056\n",
       "Name: country, dtype: int64"
      ]
     },
     "execution_count": 6,
     "metadata": {},
     "output_type": "execute_result"
    }
   ],
   "source": [
    "df_c.country.value_counts()"
   ]
  },
  {
   "cell_type": "code",
   "execution_count": 7,
   "metadata": {},
   "outputs": [
    {
     "data": {
      "text/plain": [
       "1    216744\n",
       "0     99456\n",
       "Name: new_user, dtype: int64"
      ]
     },
     "execution_count": 7,
     "metadata": {},
     "output_type": "execute_result"
    }
   ],
   "source": [
    "df_c.new_user.value_counts()"
   ]
  },
  {
   "cell_type": "code",
   "execution_count": 8,
   "metadata": {},
   "outputs": [
    {
     "data": {
      "text/plain": [
       "Seo       155040\n",
       "Ads        88740\n",
       "Direct     72420\n",
       "Name: source, dtype: int64"
      ]
     },
     "execution_count": 8,
     "metadata": {},
     "output_type": "execute_result"
    }
   ],
   "source": [
    "df.source.value_counts()"
   ]
  },
  {
   "cell_type": "code",
   "execution_count": 9,
   "metadata": {},
   "outputs": [],
   "source": [
    "df_c=pd.get_dummies(df_c)"
   ]
  },
  {
   "cell_type": "code",
   "execution_count": 10,
   "metadata": {},
   "outputs": [],
   "source": [
    "from sklearn.preprocessing import StandardScaler\n",
    "scaler=StandardScaler()\n",
    "df_f=pd.DataFrame(scaler.fit_transform(df_f))\n",
    "df_f.columns=['age','total_pages_visited']"
   ]
  },
  {
   "cell_type": "code",
   "execution_count": 11,
   "metadata": {},
   "outputs": [],
   "source": [
    "df_main=pd.concat([df_f,df_c],axis=1)"
   ]
  },
  {
   "cell_type": "code",
   "execution_count": 12,
   "metadata": {},
   "outputs": [],
   "source": [
    "from sklearn.model_selection import train_test_split\n",
    "X=df_main\n",
    "y=df.converted\n",
    "X_train,X_test,y_train,y_test=train_test_split(X,y)"
   ]
  },
  {
   "cell_type": "markdown",
   "metadata": {},
   "source": [
    "### Logistic Regression"
   ]
  },
  {
   "cell_type": "code",
   "execution_count": 13,
   "metadata": {},
   "outputs": [
    {
     "data": {
      "text/plain": [
       "GridSearchCV(cv=None, error_score='raise',\n",
       "       estimator=LogisticRegression(C=1.0, class_weight=None, dual=False, fit_intercept=True,\n",
       "          intercept_scaling=1, max_iter=100, multi_class='ovr', n_jobs=1,\n",
       "          penalty='l2', random_state=None, solver='liblinear', tol=0.0001,\n",
       "          verbose=0, warm_start=False),\n",
       "       fit_params=None, iid=True, n_jobs=1,\n",
       "       param_grid={'C': array([  1.00000e-03,   1.00000e-02,   1.00000e-01,   1.00000e+00,\n",
       "         1.00000e+01,   1.00000e+02,   1.00000e+03])},\n",
       "       pre_dispatch='2*n_jobs', refit=True, return_train_score=True,\n",
       "       scoring=None, verbose=0)"
      ]
     },
     "execution_count": 13,
     "metadata": {},
     "output_type": "execute_result"
    }
   ],
   "source": [
    "from sklearn.linear_model import LogisticRegression\n",
    "from sklearn.model_selection import GridSearchCV\n",
    "clf1=LogisticRegression()\n",
    "param1={'C':np.logspace(-3,3,7)}\n",
    "gs1=GridSearchCV(clf1,param1)\n",
    "gs1.fit(X_train,y_train)"
   ]
  },
  {
   "cell_type": "code",
   "execution_count": 14,
   "metadata": {},
   "outputs": [
    {
     "data": {
      "text/plain": [
       "0.98561669829222009"
      ]
     },
     "execution_count": 14,
     "metadata": {},
     "output_type": "execute_result"
    }
   ],
   "source": [
    "gs1.score(X_test,y_test)"
   ]
  },
  {
   "cell_type": "code",
   "execution_count": 15,
   "metadata": {},
   "outputs": [
    {
     "data": {
      "text/plain": [
       "array([[-0.62149226,  2.53614028, -1.74650064, -3.62668845,  0.13631195,\n",
       "        -0.09428427, -0.40789754, -1.24966397, -1.45268345, -1.29021089]])"
      ]
     },
     "execution_count": 15,
     "metadata": {},
     "output_type": "execute_result"
    }
   ],
   "source": [
    "gs1.best_estimator_.coef_"
   ]
  },
  {
   "cell_type": "code",
   "execution_count": 16,
   "metadata": {},
   "outputs": [
    {
     "data": {
      "text/plain": [
       "Index(['age', 'total_pages_visited', 'new_user', 'country_China',\n",
       "       'country_Germany', 'country_UK', 'country_US', 'source_Ads',\n",
       "       'source_Direct', 'source_Seo'],\n",
       "      dtype='object')"
      ]
     },
     "execution_count": 16,
     "metadata": {},
     "output_type": "execute_result"
    }
   ],
   "source": [
    "X_test.columns"
   ]
  },
  {
   "cell_type": "markdown",
   "metadata": {},
   "source": [
    "### SVM"
   ]
  },
  {
   "cell_type": "code",
   "execution_count": null,
   "metadata": {},
   "outputs": [],
   "source": [
    "from sklearn.svm import SVC\n",
    "clf2=SVC()\n",
    "clf2.fit(X_train,y_train)\n",
    "clf2.score(X_test,y_test)\n",
    "# SVM takes too long to finish"
   ]
  },
  {
   "cell_type": "markdown",
   "metadata": {},
   "source": [
    "### Naive Bayes"
   ]
  },
  {
   "cell_type": "code",
   "execution_count": 17,
   "metadata": {},
   "outputs": [
    {
     "data": {
      "text/plain": [
       "0.96352941176470586"
      ]
     },
     "execution_count": 17,
     "metadata": {},
     "output_type": "execute_result"
    }
   ],
   "source": [
    "from sklearn.naive_bayes import GaussianNB\n",
    "clf3=GaussianNB()\n",
    "clf3.fit(X_train,y_train)\n",
    "clf3.score(X_test,y_test)"
   ]
  },
  {
   "cell_type": "markdown",
   "metadata": {},
   "source": [
    "### QDA"
   ]
  },
  {
   "cell_type": "code",
   "execution_count": 18,
   "metadata": {},
   "outputs": [
    {
     "name": "stderr",
     "output_type": "stream",
     "text": [
      "/home/luo/anaconda2/envs/py35/lib/python3.5/site-packages/sklearn/discriminant_analysis.py:682: UserWarning: Variables are collinear\n",
      "  warnings.warn(\"Variables are collinear\")\n"
     ]
    },
    {
     "data": {
      "text/plain": [
       "0.96223908918406076"
      ]
     },
     "execution_count": 18,
     "metadata": {},
     "output_type": "execute_result"
    }
   ],
   "source": [
    "from sklearn.discriminant_analysis import QuadraticDiscriminantAnalysis\n",
    "clf4=QuadraticDiscriminantAnalysis()\n",
    "clf4.fit(X_train,y_train)\n",
    "clf4.score(X_test,y_test)"
   ]
  },
  {
   "cell_type": "markdown",
   "metadata": {},
   "source": [
    "### LDA"
   ]
  },
  {
   "cell_type": "code",
   "execution_count": 19,
   "metadata": {},
   "outputs": [
    {
     "name": "stderr",
     "output_type": "stream",
     "text": [
      "/home/luo/anaconda2/envs/py35/lib/python3.5/site-packages/sklearn/discriminant_analysis.py:388: UserWarning: Variables are collinear.\n",
      "  warnings.warn(\"Variables are collinear.\")\n"
     ]
    },
    {
     "data": {
      "text/plain": [
       "0.98332700822264385"
      ]
     },
     "execution_count": 19,
     "metadata": {},
     "output_type": "execute_result"
    }
   ],
   "source": [
    "from sklearn.discriminant_analysis import LinearDiscriminantAnalysis\n",
    "clf5=LinearDiscriminantAnalysis()\n",
    "clf5.fit(X_train,y_train)\n",
    "clf5.score(X_test,y_test)"
   ]
  },
  {
   "cell_type": "markdown",
   "metadata": {},
   "source": [
    "### Random Forest"
   ]
  },
  {
   "cell_type": "code",
   "execution_count": 21,
   "metadata": {},
   "outputs": [
    {
     "data": {
      "text/plain": [
       "0.9840101201771031"
      ]
     },
     "execution_count": 21,
     "metadata": {},
     "output_type": "execute_result"
    }
   ],
   "source": [
    "from sklearn.ensemble import RandomForestClassifier\n",
    "clf6=RandomForestClassifier(n_estimators=1000)\n",
    "clf6.fit(X_train,y_train)\n",
    "clf6.score(X_test,y_test)"
   ]
  },
  {
   "cell_type": "code",
   "execution_count": 22,
   "metadata": {},
   "outputs": [
    {
     "data": {
      "text/plain": [
       "array([ 0.11173649,  0.8084479 ,  0.0391247 ,  0.02229569,  0.00275255,\n",
       "        0.00375136,  0.00387875,  0.00268555,  0.00258435,  0.00274266])"
      ]
     },
     "execution_count": 22,
     "metadata": {},
     "output_type": "execute_result"
    }
   ],
   "source": [
    "clf6.feature_importances_"
   ]
  },
  {
   "cell_type": "code",
   "execution_count": 23,
   "metadata": {},
   "outputs": [
    {
     "data": {
      "text/plain": [
       "Index(['age', 'total_pages_visited', 'new_user', 'country_China',\n",
       "       'country_Germany', 'country_UK', 'country_US', 'source_Ads',\n",
       "       'source_Direct', 'source_Seo'],\n",
       "      dtype='object')"
      ]
     },
     "execution_count": 23,
     "metadata": {},
     "output_type": "execute_result"
    }
   ],
   "source": [
    "df_main.columns"
   ]
  },
  {
   "cell_type": "markdown",
   "metadata": {},
   "source": [
    "### Single Decision Tree"
   ]
  },
  {
   "cell_type": "code",
   "execution_count": 26,
   "metadata": {},
   "outputs": [
    {
     "data": {
      "text/plain": [
       "0.9836938646426312"
      ]
     },
     "execution_count": 26,
     "metadata": {},
     "output_type": "execute_result"
    }
   ],
   "source": [
    "from sklearn.tree import DecisionTreeClassifier\n",
    "clf7=DecisionTreeClassifier()\n",
    "clf7.fit(X_train,y_train)\n",
    "clf7.score(X_test,y_test)"
   ]
  },
  {
   "cell_type": "code",
   "execution_count": 27,
   "metadata": {},
   "outputs": [
    {
     "data": {
      "text/plain": [
       "array([ 0.07250509,  0.79200544,  0.05454303,  0.03863534,  0.0048713 ,\n",
       "        0.00658002,  0.00804602,  0.00786852,  0.00666196,  0.00828328])"
      ]
     },
     "execution_count": 27,
     "metadata": {},
     "output_type": "execute_result"
    }
   ],
   "source": [
    "clf7.feature_importances_"
   ]
  },
  {
   "cell_type": "code",
   "execution_count": 48,
   "metadata": {},
   "outputs": [],
   "source": [
    "from sklearn.tree import export_graphviz\n",
    "import graphviz"
   ]
  },
  {
   "cell_type": "code",
   "execution_count": 51,
   "metadata": {},
   "outputs": [
    {
     "data": {
      "image/svg+xml": [
       "<?xml version=\"1.0\" encoding=\"UTF-8\" standalone=\"no\"?>\n",
       "<!DOCTYPE svg PUBLIC \"-//W3C//DTD SVG 1.1//EN\"\n",
       " \"http://www.w3.org/Graphics/SVG/1.1/DTD/svg11.dtd\">\n",
       "<!-- Generated by graphviz version 2.38.0 (20140413.2041)\n",
       " -->\n",
       "<!-- Title: Tree Pages: 1 -->\n",
       "<svg width=\"670pt\" height=\"356pt\"\n",
       " viewBox=\"0.00 0.00 670.00 356.00\" xmlns=\"http://www.w3.org/2000/svg\" xmlns:xlink=\"http://www.w3.org/1999/xlink\">\n",
       "<g id=\"graph0\" class=\"graph\" transform=\"scale(1 1) rotate(0) translate(4 352)\">\n",
       "<title>Tree</title>\n",
       "<polygon fill=\"white\" stroke=\"none\" points=\"-4,4 -4,-352 666,-352 666,4 -4,4\"/>\n",
       "<!-- 0 -->\n",
       "<g id=\"node1\" class=\"node\"><title>0</title>\n",
       "<polygon fill=\"none\" stroke=\"black\" points=\"430,-348 254,-348 254,-280 430,-280 430,-348\"/>\n",
       "<text text-anchor=\"middle\" x=\"342\" y=\"-332.8\" font-family=\"Times,serif\" font-size=\"14.00\">total_pages_visited &lt;= 2.283</text>\n",
       "<text text-anchor=\"middle\" x=\"342\" y=\"-317.8\" font-family=\"Times,serif\" font-size=\"14.00\">gini = 0.062</text>\n",
       "<text text-anchor=\"middle\" x=\"342\" y=\"-302.8\" font-family=\"Times,serif\" font-size=\"14.00\">samples = 237150</text>\n",
       "<text text-anchor=\"middle\" x=\"342\" y=\"-287.8\" font-family=\"Times,serif\" font-size=\"14.00\">value = [229529, 7621]</text>\n",
       "</g>\n",
       "<!-- 1 -->\n",
       "<g id=\"node2\" class=\"node\"><title>1</title>\n",
       "<polygon fill=\"none\" stroke=\"black\" points=\"333,-244 157,-244 157,-176 333,-176 333,-244\"/>\n",
       "<text text-anchor=\"middle\" x=\"245\" y=\"-228.8\" font-family=\"Times,serif\" font-size=\"14.00\">total_pages_visited &lt;= 1.684</text>\n",
       "<text text-anchor=\"middle\" x=\"245\" y=\"-213.8\" font-family=\"Times,serif\" font-size=\"14.00\">gini = 0.02</text>\n",
       "<text text-anchor=\"middle\" x=\"245\" y=\"-198.8\" font-family=\"Times,serif\" font-size=\"14.00\">samples = 229708</text>\n",
       "<text text-anchor=\"middle\" x=\"245\" y=\"-183.8\" font-family=\"Times,serif\" font-size=\"14.00\">value = [227433, 2275]</text>\n",
       "</g>\n",
       "<!-- 0&#45;&gt;1 -->\n",
       "<g id=\"edge1\" class=\"edge\"><title>0&#45;&gt;1</title>\n",
       "<path fill=\"none\" stroke=\"black\" d=\"M310.507,-279.884C301.951,-270.887 292.588,-261.041 283.684,-251.678\"/>\n",
       "<polygon fill=\"black\" stroke=\"black\" points=\"286.095,-249.134 276.667,-244.299 281.022,-253.958 286.095,-249.134\"/>\n",
       "<text text-anchor=\"middle\" x=\"276.039\" y=\"-265.591\" font-family=\"Times,serif\" font-size=\"14.00\">True</text>\n",
       "</g>\n",
       "<!-- 4372 -->\n",
       "<g id=\"node9\" class=\"node\"><title>4372</title>\n",
       "<polygon fill=\"none\" stroke=\"black\" points=\"527,-244 351,-244 351,-176 527,-176 527,-244\"/>\n",
       "<text text-anchor=\"middle\" x=\"439\" y=\"-228.8\" font-family=\"Times,serif\" font-size=\"14.00\">total_pages_visited &lt;= 2.881</text>\n",
       "<text text-anchor=\"middle\" x=\"439\" y=\"-213.8\" font-family=\"Times,serif\" font-size=\"14.00\">gini = 0.405</text>\n",
       "<text text-anchor=\"middle\" x=\"439\" y=\"-198.8\" font-family=\"Times,serif\" font-size=\"14.00\">samples = 7442</text>\n",
       "<text text-anchor=\"middle\" x=\"439\" y=\"-183.8\" font-family=\"Times,serif\" font-size=\"14.00\">value = [2096, 5346]</text>\n",
       "</g>\n",
       "<!-- 0&#45;&gt;4372 -->\n",
       "<g id=\"edge8\" class=\"edge\"><title>0&#45;&gt;4372</title>\n",
       "<path fill=\"none\" stroke=\"black\" d=\"M373.493,-279.884C382.049,-270.887 391.412,-261.041 400.316,-251.678\"/>\n",
       "<polygon fill=\"black\" stroke=\"black\" points=\"402.978,-253.958 407.333,-244.299 397.905,-249.134 402.978,-253.958\"/>\n",
       "<text text-anchor=\"middle\" x=\"407.961\" y=\"-265.591\" font-family=\"Times,serif\" font-size=\"14.00\">False</text>\n",
       "</g>\n",
       "<!-- 2 -->\n",
       "<g id=\"node3\" class=\"node\"><title>2</title>\n",
       "<polygon fill=\"none\" stroke=\"black\" points=\"176,-140 1.42109e-14,-140 1.42109e-14,-72 176,-72 176,-140\"/>\n",
       "<text text-anchor=\"middle\" x=\"88\" y=\"-124.8\" font-family=\"Times,serif\" font-size=\"14.00\">total_pages_visited &lt;= 1.086</text>\n",
       "<text text-anchor=\"middle\" x=\"88\" y=\"-109.8\" font-family=\"Times,serif\" font-size=\"14.00\">gini = 0.01</text>\n",
       "<text text-anchor=\"middle\" x=\"88\" y=\"-94.8\" font-family=\"Times,serif\" font-size=\"14.00\">samples = 222938</text>\n",
       "<text text-anchor=\"middle\" x=\"88\" y=\"-79.8\" font-family=\"Times,serif\" font-size=\"14.00\">value = [221814, 1124]</text>\n",
       "</g>\n",
       "<!-- 1&#45;&gt;2 -->\n",
       "<g id=\"edge2\" class=\"edge\"><title>1&#45;&gt;2</title>\n",
       "<path fill=\"none\" stroke=\"black\" d=\"M194.027,-175.884C179.144,-166.214 162.75,-155.563 147.394,-145.587\"/>\n",
       "<polygon fill=\"black\" stroke=\"black\" points=\"149.279,-142.638 138.986,-140.125 145.465,-148.508 149.279,-142.638\"/>\n",
       "</g>\n",
       "<!-- 2939 -->\n",
       "<g id=\"node6\" class=\"node\"><title>2939</title>\n",
       "<polygon fill=\"none\" stroke=\"black\" points=\"326,-140 194,-140 194,-72 326,-72 326,-140\"/>\n",
       "<text text-anchor=\"middle\" x=\"260\" y=\"-124.8\" font-family=\"Times,serif\" font-size=\"14.00\">new_user &lt;= 0.5</text>\n",
       "<text text-anchor=\"middle\" x=\"260\" y=\"-109.8\" font-family=\"Times,serif\" font-size=\"14.00\">gini = 0.282</text>\n",
       "<text text-anchor=\"middle\" x=\"260\" y=\"-94.8\" font-family=\"Times,serif\" font-size=\"14.00\">samples = 6770</text>\n",
       "<text text-anchor=\"middle\" x=\"260\" y=\"-79.8\" font-family=\"Times,serif\" font-size=\"14.00\">value = [5619, 1151]</text>\n",
       "</g>\n",
       "<!-- 1&#45;&gt;2939 -->\n",
       "<g id=\"edge5\" class=\"edge\"><title>1&#45;&gt;2939</title>\n",
       "<path fill=\"none\" stroke=\"black\" d=\"M249.87,-175.884C251.062,-167.778 252.356,-158.982 253.607,-150.472\"/>\n",
       "<polygon fill=\"black\" stroke=\"black\" points=\"257.111,-150.702 255.103,-140.299 250.185,-149.684 257.111,-150.702\"/>\n",
       "</g>\n",
       "<!-- 3 -->\n",
       "<g id=\"node4\" class=\"node\"><title>3</title>\n",
       "<polygon fill=\"none\" stroke=\"black\" points=\"108,-36 54,-36 54,-0 108,-0 108,-36\"/>\n",
       "<text text-anchor=\"middle\" x=\"81\" y=\"-14.3\" font-family=\"Times,serif\" font-size=\"14.00\">(...)</text>\n",
       "</g>\n",
       "<!-- 2&#45;&gt;3 -->\n",
       "<g id=\"edge3\" class=\"edge\"><title>2&#45;&gt;3</title>\n",
       "<path fill=\"none\" stroke=\"black\" d=\"M85.3136,-71.9961C84.6274,-63.5646 83.8969,-54.5902 83.2359,-46.4696\"/>\n",
       "<polygon fill=\"black\" stroke=\"black\" points=\"86.7164,-46.0864 82.4166,-36.4034 79.7395,-46.6544 86.7164,-46.0864\"/>\n",
       "</g>\n",
       "<!-- 1694 -->\n",
       "<g id=\"node5\" class=\"node\"><title>1694</title>\n",
       "<polygon fill=\"none\" stroke=\"black\" points=\"180,-36 126,-36 126,-0 180,-0 180,-36\"/>\n",
       "<text text-anchor=\"middle\" x=\"153\" y=\"-14.3\" font-family=\"Times,serif\" font-size=\"14.00\">(...)</text>\n",
       "</g>\n",
       "<!-- 2&#45;&gt;1694 -->\n",
       "<g id=\"edge4\" class=\"edge\"><title>2&#45;&gt;1694</title>\n",
       "<path fill=\"none\" stroke=\"black\" d=\"M112.945,-71.9961C119.819,-62.9014 127.17,-53.1752 133.674,-44.57\"/>\n",
       "<polygon fill=\"black\" stroke=\"black\" points=\"136.609,-46.4915 139.846,-36.4034 131.024,-42.2707 136.609,-46.4915\"/>\n",
       "</g>\n",
       "<!-- 2940 -->\n",
       "<g id=\"node7\" class=\"node\"><title>2940</title>\n",
       "<polygon fill=\"none\" stroke=\"black\" points=\"269,-36 215,-36 215,-0 269,-0 269,-36\"/>\n",
       "<text text-anchor=\"middle\" x=\"242\" y=\"-14.3\" font-family=\"Times,serif\" font-size=\"14.00\">(...)</text>\n",
       "</g>\n",
       "<!-- 2939&#45;&gt;2940 -->\n",
       "<g id=\"edge6\" class=\"edge\"><title>2939&#45;&gt;2940</title>\n",
       "<path fill=\"none\" stroke=\"black\" d=\"M253.092,-71.9961C251.308,-63.4699 249.407,-54.3885 247.692,-46.1962\"/>\n",
       "<polygon fill=\"black\" stroke=\"black\" points=\"251.117,-45.4742 245.643,-36.4034 244.266,-46.9083 251.117,-45.4742\"/>\n",
       "</g>\n",
       "<!-- 3721 -->\n",
       "<g id=\"node8\" class=\"node\"><title>3721</title>\n",
       "<polygon fill=\"none\" stroke=\"black\" points=\"341,-36 287,-36 287,-0 341,-0 341,-36\"/>\n",
       "<text text-anchor=\"middle\" x=\"314\" y=\"-14.3\" font-family=\"Times,serif\" font-size=\"14.00\">(...)</text>\n",
       "</g>\n",
       "<!-- 2939&#45;&gt;3721 -->\n",
       "<g id=\"edge7\" class=\"edge\"><title>2939&#45;&gt;3721</title>\n",
       "<path fill=\"none\" stroke=\"black\" d=\"M280.723,-71.9961C286.315,-63.0909 292.287,-53.5802 297.606,-45.1093\"/>\n",
       "<polygon fill=\"black\" stroke=\"black\" points=\"300.719,-46.7335 303.072,-36.4034 294.79,-43.0111 300.719,-46.7335\"/>\n",
       "</g>\n",
       "<!-- 4373 -->\n",
       "<g id=\"node10\" class=\"node\"><title>4373</title>\n",
       "<polygon fill=\"none\" stroke=\"black\" points=\"490,-140 358,-140 358,-72 490,-72 490,-140\"/>\n",
       "<text text-anchor=\"middle\" x=\"424\" y=\"-124.8\" font-family=\"Times,serif\" font-size=\"14.00\">new_user &lt;= 0.5</text>\n",
       "<text text-anchor=\"middle\" x=\"424\" y=\"-109.8\" font-family=\"Times,serif\" font-size=\"14.00\">gini = 0.499</text>\n",
       "<text text-anchor=\"middle\" x=\"424\" y=\"-94.8\" font-family=\"Times,serif\" font-size=\"14.00\">samples = 3188</text>\n",
       "<text text-anchor=\"middle\" x=\"424\" y=\"-79.8\" font-family=\"Times,serif\" font-size=\"14.00\">value = [1657, 1531]</text>\n",
       "</g>\n",
       "<!-- 4372&#45;&gt;4373 -->\n",
       "<g id=\"edge9\" class=\"edge\"><title>4372&#45;&gt;4373</title>\n",
       "<path fill=\"none\" stroke=\"black\" d=\"M434.13,-175.884C432.938,-167.778 431.644,-158.982 430.393,-150.472\"/>\n",
       "<polygon fill=\"black\" stroke=\"black\" points=\"433.815,-149.684 428.897,-140.299 426.889,-150.702 433.815,-149.684\"/>\n",
       "</g>\n",
       "<!-- 5646 -->\n",
       "<g id=\"node13\" class=\"node\"><title>5646</title>\n",
       "<polygon fill=\"none\" stroke=\"black\" points=\"646,-140 508,-140 508,-72 646,-72 646,-140\"/>\n",
       "<text text-anchor=\"middle\" x=\"577\" y=\"-124.8\" font-family=\"Times,serif\" font-size=\"14.00\">country_China &lt;= 0.5</text>\n",
       "<text text-anchor=\"middle\" x=\"577\" y=\"-109.8\" font-family=\"Times,serif\" font-size=\"14.00\">gini = 0.185</text>\n",
       "<text text-anchor=\"middle\" x=\"577\" y=\"-94.8\" font-family=\"Times,serif\" font-size=\"14.00\">samples = 4254</text>\n",
       "<text text-anchor=\"middle\" x=\"577\" y=\"-79.8\" font-family=\"Times,serif\" font-size=\"14.00\">value = [439, 3815]</text>\n",
       "</g>\n",
       "<!-- 4372&#45;&gt;5646 -->\n",
       "<g id=\"edge12\" class=\"edge\"><title>4372&#45;&gt;5646</title>\n",
       "<path fill=\"none\" stroke=\"black\" d=\"M483.805,-175.884C496.579,-166.442 510.62,-156.064 523.841,-146.292\"/>\n",
       "<polygon fill=\"black\" stroke=\"black\" points=\"525.987,-149.058 531.948,-140.299 521.826,-143.429 525.987,-149.058\"/>\n",
       "</g>\n",
       "<!-- 4374 -->\n",
       "<g id=\"node11\" class=\"node\"><title>4374</title>\n",
       "<polygon fill=\"none\" stroke=\"black\" points=\"432,-36 378,-36 378,-0 432,-0 432,-36\"/>\n",
       "<text text-anchor=\"middle\" x=\"405\" y=\"-14.3\" font-family=\"Times,serif\" font-size=\"14.00\">(...)</text>\n",
       "</g>\n",
       "<!-- 4373&#45;&gt;4374 -->\n",
       "<g id=\"edge10\" class=\"edge\"><title>4373&#45;&gt;4374</title>\n",
       "<path fill=\"none\" stroke=\"black\" d=\"M416.708,-71.9961C414.825,-63.4699 412.818,-54.3885 411.008,-46.1962\"/>\n",
       "<polygon fill=\"black\" stroke=\"black\" points=\"414.42,-45.4128 408.845,-36.4034 407.585,-46.923 414.42,-45.4128\"/>\n",
       "</g>\n",
       "<!-- 5019 -->\n",
       "<g id=\"node12\" class=\"node\"><title>5019</title>\n",
       "<polygon fill=\"none\" stroke=\"black\" points=\"504,-36 450,-36 450,-0 504,-0 504,-36\"/>\n",
       "<text text-anchor=\"middle\" x=\"477\" y=\"-14.3\" font-family=\"Times,serif\" font-size=\"14.00\">(...)</text>\n",
       "</g>\n",
       "<!-- 4373&#45;&gt;5019 -->\n",
       "<g id=\"edge11\" class=\"edge\"><title>4373&#45;&gt;5019</title>\n",
       "<path fill=\"none\" stroke=\"black\" d=\"M444.34,-71.9961C449.828,-63.0909 455.689,-53.5802 460.909,-45.1093\"/>\n",
       "<polygon fill=\"black\" stroke=\"black\" points=\"464.008,-46.7529 466.275,-36.4034 458.048,-43.0803 464.008,-46.7529\"/>\n",
       "</g>\n",
       "<!-- 5647 -->\n",
       "<g id=\"node14\" class=\"node\"><title>5647</title>\n",
       "<polygon fill=\"none\" stroke=\"black\" points=\"590,-36 536,-36 536,-0 590,-0 590,-36\"/>\n",
       "<text text-anchor=\"middle\" x=\"563\" y=\"-14.3\" font-family=\"Times,serif\" font-size=\"14.00\">(...)</text>\n",
       "</g>\n",
       "<!-- 5646&#45;&gt;5647 -->\n",
       "<g id=\"edge13\" class=\"edge\"><title>5646&#45;&gt;5647</title>\n",
       "<path fill=\"none\" stroke=\"black\" d=\"M571.627,-71.9961C570.255,-63.5646 568.794,-54.5902 567.472,-46.4696\"/>\n",
       "<polygon fill=\"black\" stroke=\"black\" points=\"570.894,-45.7111 565.833,-36.4034 563.985,-46.8359 570.894,-45.7111\"/>\n",
       "</g>\n",
       "<!-- 6624 -->\n",
       "<g id=\"node15\" class=\"node\"><title>6624</title>\n",
       "<polygon fill=\"none\" stroke=\"black\" points=\"662,-36 608,-36 608,-0 662,-0 662,-36\"/>\n",
       "<text text-anchor=\"middle\" x=\"635\" y=\"-14.3\" font-family=\"Times,serif\" font-size=\"14.00\">(...)</text>\n",
       "</g>\n",
       "<!-- 5646&#45;&gt;6624 -->\n",
       "<g id=\"edge14\" class=\"edge\"><title>5646&#45;&gt;6624</title>\n",
       "<path fill=\"none\" stroke=\"black\" d=\"M599.258,-71.9961C605.328,-62.9962 611.815,-53.3778 617.574,-44.8393\"/>\n",
       "<polygon fill=\"black\" stroke=\"black\" points=\"620.573,-46.6511 623.263,-36.4034 614.77,-42.7371 620.573,-46.6511\"/>\n",
       "</g>\n",
       "</g>\n",
       "</svg>\n"
      ],
      "text/plain": [
       "<graphviz.files.Source at 0x7fcd204f0828>"
      ]
     },
     "execution_count": 51,
     "metadata": {},
     "output_type": "execute_result"
    }
   ],
   "source": [
    "dot_data = export_graphviz(clf7, out_file=None, max_depth=2, feature_names=X_test.columns)\n",
    "graph = graphviz.Source(dot_data)\n",
    "graph"
   ]
  },
  {
   "cell_type": "code",
   "execution_count": null,
   "metadata": {},
   "outputs": [],
   "source": []
  }
 ],
 "metadata": {
  "kernelspec": {
   "display_name": "Python 3",
   "language": "python",
   "name": "python3"
  },
  "language_info": {
   "codemirror_mode": {
    "name": "ipython",
    "version": 3
   },
   "file_extension": ".py",
   "mimetype": "text/x-python",
   "name": "python",
   "nbconvert_exporter": "python",
   "pygments_lexer": "ipython3",
   "version": "3.5.4"
  }
 },
 "nbformat": 4,
 "nbformat_minor": 2
}
